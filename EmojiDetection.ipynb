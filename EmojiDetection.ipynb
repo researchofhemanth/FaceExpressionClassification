{
 "cells": [
  {
   "cell_type": "code",
   "execution_count": 1,
   "metadata": {
    "colab": {},
    "colab_type": "code",
    "id": "juhz5u_33T5X"
   },
   "outputs": [],
   "source": [
    "import pickle\n",
    "try:\n",
    "  pickle_in = open(\"X.pickle\",\"rb\")\n",
    "  X = pickle.load(pickle_in)\n",
    "except (IOError, pickle.UnpicklingError, AssertionError):\n",
    "  X = pickle.load(pickle_in)"
   ]
  },
  {
   "cell_type": "code",
   "execution_count": 2,
   "metadata": {
    "colab": {},
    "colab_type": "code",
    "id": "zq3x2kHk4dBE"
   },
   "outputs": [],
   "source": [
    "import pickle\n",
    "try:\n",
    "  pickle_in = open(\"y.pickle\",\"rb\")\n",
    "  y = pickle.load(pickle_in)\n",
    "except (IOError, pickle.UnpicklingError, AssertionError):\n",
    "  y = pickle.load(pickle_in)"
   ]
  },
  {
   "cell_type": "code",
   "execution_count": null,
   "metadata": {
    "colab": {},
    "colab_type": "code",
    "id": "DMXzkJkK5tFu"
   },
   "outputs": [],
   "source": []
  },
  {
   "cell_type": "code",
   "execution_count": null,
   "metadata": {},
   "outputs": [],
   "source": []
  },
  {
   "cell_type": "code",
   "execution_count": null,
   "metadata": {},
   "outputs": [],
   "source": []
  },
  {
   "cell_type": "code",
   "execution_count": 3,
   "metadata": {
    "colab": {},
    "colab_type": "code",
    "id": "mIy6UPjORgtE"
   },
   "outputs": [],
   "source": [
    "from sklearn.model_selection import train_test_split"
   ]
  },
  {
   "cell_type": "code",
   "execution_count": 4,
   "metadata": {
    "colab": {},
    "colab_type": "code",
    "id": "f7YCLj2aRnAx"
   },
   "outputs": [],
   "source": [
    "X_train,X_test,y_train,y_test = train_test_split(X,y,test_size=0.2)"
   ]
  },
  {
   "cell_type": "code",
   "execution_count": 6,
   "metadata": {
    "colab": {},
    "colab_type": "code",
    "id": "Rc58c6fBSg7m"
   },
   "outputs": [],
   "source": [
    "from __future__ import absolute_import, division, print_function, unicode_literals\n",
    "\n",
    "import matplotlib.pylab as plt\n",
    "\n",
    "import tensorflow as tf\n",
    "tf.logging.set_verbosity(tf.logging.ERROR)\n",
    "tf.enable_eager_execution()\n",
    "\n",
    "import tensorflow_hub as hub\n",
    "\n",
    "from tensorflow.keras import layers\n",
    "\n"
   ]
  },
  {
   "cell_type": "code",
   "execution_count": null,
   "metadata": {
    "colab": {
     "base_uri": "https://localhost:8080/",
     "height": 204
    },
    "colab_type": "code",
    "id": "8Gf5xmXSS-gj",
    "outputId": "5236f146-1cc6-4fc5-84e7-57b8dcea7f6b"
   },
   "outputs": [
    {
     "name": "stdout",
     "output_type": "stream",
     "text": [
      "Epoch 1/5\n",
      "11205/11205 [==============================] - 29s 3ms/sample - loss: 13.7868 - acc: 0.1446\n",
      "Epoch 2/5\n",
      "11205/11205 [==============================] - 25s 2ms/sample - loss: 13.7878 - acc: 0.1446\n",
      "Epoch 3/5\n",
      "11205/11205 [==============================] - 25s 2ms/sample - loss: 13.7878 - acc: 0.1446\n",
      "Epoch 4/5\n",
      "11205/11205 [==============================] - 25s 2ms/sample - loss: 13.7878 - acc: 0.1446\n",
      "Epoch 5/5\n",
      " 7936/11205 [====================>.........] - ETA: 7s - loss: 13.8291 - acc: 0.1420"
     ]
    }
   ],
   "source": [
    "with tf.device('/gpu:0'):\n",
    "    X_train,X\n",
    "    model2 = tf.keras.Sequential([\n",
    "                tf.keras.layers.Flatten(input_shape=(224,224,1)),\n",
    "                tf.keras.layers.Dense(512,activation='relu'),\n",
    "                tf.keras.layers.Dense(7,activation='softmax')\n",
    "                ])\n",
    "    model2.compile(optimizer = 'adam',loss = 'sparse_categorical_crossentropy',metrics = ['accuracy'])\n",
    "    model2.fit(X_train,y_train,epochs=5)\n",
    "\n",
    "#MODEL 1"
   ]
  },
  {
   "cell_type": "code",
   "execution_count": 28,
   "metadata": {
    "colab": {},
    "colab_type": "code",
    "id": "IXgqLZGWTJAY"
   },
   "outputs": [
    {
     "ename": "NameError",
     "evalue": "name 'model2' is not defined",
     "output_type": "error",
     "traceback": [
      "\u001b[0;31m---------------------------------------------------------------------------\u001b[0m",
      "\u001b[0;31mNameError\u001b[0m                                 Traceback (most recent call last)",
      "\u001b[0;32m<ipython-input-28-ffe5d36b21d0>\u001b[0m in \u001b[0;36m<module>\u001b[0;34m\u001b[0m\n\u001b[0;32m----> 1\u001b[0;31m \u001b[0mmodel2\u001b[0m\u001b[0;34m.\u001b[0m\u001b[0msave_weights\u001b[0m\u001b[0;34m(\u001b[0m\u001b[0;34m'./checkpoints/my_checkpoint'\u001b[0m\u001b[0;34m)\u001b[0m\u001b[0;34m\u001b[0m\u001b[0;34m\u001b[0m\u001b[0m\n\u001b[0m",
      "\u001b[0;31mNameError\u001b[0m: name 'model2' is not defined"
     ]
    }
   ],
   "source": [
    "model2.save_weights('./checkpoints/my_checkpoint')"
   ]
  },
  {
   "cell_type": "code",
   "execution_count": 0,
   "metadata": {
    "colab": {},
    "colab_type": "code",
    "id": "4-Md10obTPZ1"
   },
   "outputs": [],
   "source": [
    "model2 = tf.keras.Sequential([\n",
    "            tf.keras.layers.Conv2D(32,(3,3),activation='relu',input_shape=(224,224,1)),\n",
    "            tf.keras.layers.MaxPooling2D(2,2),\n",
    "            tf.keras.layers.Conv2D(64,(3,3),activation='relu'),\n",
    "            tf.keras.layers.MaxPooling2D(2,2),\n",
    "            tf.keras.layers.Flatten(),\n",
    "            tf.keras.layers.Dense(512,activation='relu'),\n",
    "            tf.keras.layers.Dense(8,activation='softmax')\n",
    "            ])\n",
    "model2.load_weights('./checkpoints/my_checkpoint')\n",
    "model2.compile(optimizer = 'adam',loss = 'sparse_categorical_crossentropy',metrics = ['accuracy'])"
   ]
  },
  {
   "cell_type": "code",
   "execution_count": 0,
   "metadata": {
    "colab": {
     "base_uri": "https://localhost:8080/",
     "height": 51
    },
    "colab_type": "code",
    "id": "ltrag0Xd7rEV",
    "outputId": "e21b7131-0e70-4127-f184-2b3715ae9702"
   },
   "outputs": [
    {
     "name": "stdout",
     "output_type": "stream",
     "text": [
      "111/111 [==============================] - 2s 22ms/sample - loss: 7.8412 - acc: 0.5135\n"
     ]
    },
    {
     "data": {
      "text/plain": [
       "[7.841235564635681, 0.5135135]"
      ]
     },
     "execution_count": 19,
     "metadata": {
      "tags": []
     },
     "output_type": "execute_result"
    }
   ],
   "source": [
    "model2.evaluate(X_test,y_test)"
   ]
  },
  {
   "cell_type": "code",
   "execution_count": 0,
   "metadata": {
    "colab": {},
    "colab_type": "code",
    "id": "8UD5FwGM71V_"
   },
   "outputs": [],
   "source": [
    "URL = \"https://tfhub.dev/google/tf2-preview/mobilenet_v2/feature_vector/2\"\n",
    "feature_extractor = hub.KerasLayer(URL,\n",
    "                                   input_shape=(224, 224,3))"
   ]
  },
  {
   "cell_type": "code",
   "execution_count": 0,
   "metadata": {
    "colab": {
     "base_uri": "https://localhost:8080/",
     "height": 34
    },
    "colab_type": "code",
    "id": "MxcMpT3m9F9y",
    "outputId": "8f37fedf-1d84-4497-f424-4a7c1a15a511"
   },
   "outputs": [
    {
     "data": {
      "text/plain": [
       "(552, 224, 224, 1)"
      ]
     },
     "execution_count": 34,
     "metadata": {
      "tags": []
     },
     "output_type": "execute_result"
    }
   ],
   "source": [
    "X.shape"
   ]
  },
  {
   "cell_type": "code",
   "execution_count": 0,
   "metadata": {
    "colab": {},
    "colab_type": "code",
    "id": "9pYLHrB59M9M"
   },
   "outputs": [],
   "source": [
    "X1 = tf.image.grayscale_to_rgb(\n",
    "    tf.convert_to_tensor(X),\n",
    "    name=None\n",
    ")"
   ]
  },
  {
   "cell_type": "code",
   "execution_count": 0,
   "metadata": {
    "colab": {
     "base_uri": "https://localhost:8080/",
     "height": 5253
    },
    "colab_type": "code",
    "id": "9S6YGUT09d8A",
    "outputId": "3a4b88c9-ba5f-4c8c-e9a6-0afc64e2e916"
   },
   "outputs": [
    {
     "data": {
      "text/plain": [
       "<tf.Tensor: id=26284, shape=(552, 224, 224, 3), dtype=uint8, numpy=\n",
       "array([[[[ 56,  56,  56],\n",
       "         [167, 167, 167],\n",
       "         [173, 173, 173],\n",
       "         ...,\n",
       "         [168, 168, 168],\n",
       "         [170, 170, 170],\n",
       "         [ 44,  44,  44]],\n",
       "\n",
       "        [[  3,   3,   3],\n",
       "         [  2,   2,   2],\n",
       "         [  2,   2,   2],\n",
       "         ...,\n",
       "         [  0,   0,   0],\n",
       "         [  0,   0,   0],\n",
       "         [  2,   2,   2]],\n",
       "\n",
       "        [[101, 101, 101],\n",
       "         [201, 201, 201],\n",
       "         [128, 128, 128],\n",
       "         ...,\n",
       "         [181, 181, 181],\n",
       "         [168, 168, 168],\n",
       "         [ 44,  44,  44]],\n",
       "\n",
       "        ...,\n",
       "\n",
       "        [[ 21,  21,  21],\n",
       "         [ 22,  22,  22],\n",
       "         [ 25,  25,  25],\n",
       "         ...,\n",
       "         [ 31,  31,  31],\n",
       "         [ 31,  31,  31],\n",
       "         [ 29,  29,  29]],\n",
       "\n",
       "        [[ 20,  20,  20],\n",
       "         [ 24,  24,  24],\n",
       "         [ 25,  25,  25],\n",
       "         ...,\n",
       "         [ 32,  32,  32],\n",
       "         [ 29,  29,  29],\n",
       "         [ 31,  31,  31]],\n",
       "\n",
       "        [[ 20,  20,  20],\n",
       "         [ 29,  29,  29],\n",
       "         [ 28,  28,  28],\n",
       "         ...,\n",
       "         [ 31,  31,  31],\n",
       "         [ 29,  29,  29],\n",
       "         [ 29,  29,  29]]],\n",
       "\n",
       "\n",
       "       [[[ 56,  56,  56],\n",
       "         [167, 167, 167],\n",
       "         [173, 173, 173],\n",
       "         ...,\n",
       "         [168, 168, 168],\n",
       "         [170, 170, 170],\n",
       "         [ 44,  44,  44]],\n",
       "\n",
       "        [[  3,   3,   3],\n",
       "         [  2,   2,   2],\n",
       "         [  2,   2,   2],\n",
       "         ...,\n",
       "         [  0,   0,   0],\n",
       "         [  0,   0,   0],\n",
       "         [  2,   2,   2]],\n",
       "\n",
       "        [[101, 101, 101],\n",
       "         [201, 201, 201],\n",
       "         [128, 128, 128],\n",
       "         ...,\n",
       "         [181, 181, 181],\n",
       "         [168, 168, 168],\n",
       "         [ 44,  44,  44]],\n",
       "\n",
       "        ...,\n",
       "\n",
       "        [[ 21,  21,  21],\n",
       "         [ 22,  22,  22],\n",
       "         [ 25,  25,  25],\n",
       "         ...,\n",
       "         [ 31,  31,  31],\n",
       "         [ 31,  31,  31],\n",
       "         [ 29,  29,  29]],\n",
       "\n",
       "        [[ 20,  20,  20],\n",
       "         [ 24,  24,  24],\n",
       "         [ 25,  25,  25],\n",
       "         ...,\n",
       "         [ 32,  32,  32],\n",
       "         [ 29,  29,  29],\n",
       "         [ 31,  31,  31]],\n",
       "\n",
       "        [[ 20,  20,  20],\n",
       "         [ 29,  29,  29],\n",
       "         [ 28,  28,  28],\n",
       "         ...,\n",
       "         [ 31,  31,  31],\n",
       "         [ 29,  29,  29],\n",
       "         [ 29,  29,  29]]],\n",
       "\n",
       "\n",
       "       [[[250, 250, 250],\n",
       "         [220, 220, 220],\n",
       "         [218, 218, 218],\n",
       "         ...,\n",
       "         [206, 206, 206],\n",
       "         [208, 208, 208],\n",
       "         [  0,   0,   0]],\n",
       "\n",
       "        [[251, 251, 251],\n",
       "         [220, 220, 220],\n",
       "         [218, 218, 218],\n",
       "         ...,\n",
       "         [208, 208, 208],\n",
       "         [208, 208, 208],\n",
       "         [  0,   0,   0]],\n",
       "\n",
       "        [[251, 251, 251],\n",
       "         [220, 220, 220],\n",
       "         [218, 218, 218],\n",
       "         ...,\n",
       "         [208, 208, 208],\n",
       "         [208, 208, 208],\n",
       "         [  0,   0,   0]],\n",
       "\n",
       "        ...,\n",
       "\n",
       "        [[250, 250, 250],\n",
       "         [218, 218, 218],\n",
       "         [217, 217, 217],\n",
       "         ...,\n",
       "         [183, 183, 183],\n",
       "         [183, 183, 183],\n",
       "         [  0,   0,   0]],\n",
       "\n",
       "        [[250, 250, 250],\n",
       "         [217, 217, 217],\n",
       "         [216, 216, 216],\n",
       "         ...,\n",
       "         [183, 183, 183],\n",
       "         [183, 183, 183],\n",
       "         [  0,   0,   0]],\n",
       "\n",
       "        [[250, 250, 250],\n",
       "         [218, 218, 218],\n",
       "         [216, 216, 216],\n",
       "         ...,\n",
       "         [183, 183, 183],\n",
       "         [183, 183, 183],\n",
       "         [  0,   0,   0]]],\n",
       "\n",
       "\n",
       "       ...,\n",
       "\n",
       "\n",
       "       [[[ 24,  24,  24],\n",
       "         [ 42,  42,  42],\n",
       "         [ 35,  35,  35],\n",
       "         ...,\n",
       "         [245, 245, 245],\n",
       "         [246, 246, 246],\n",
       "         [250, 250, 250]],\n",
       "\n",
       "        [[ 71,  71,  71],\n",
       "         [121, 121, 121],\n",
       "         [108, 108, 108],\n",
       "         ...,\n",
       "         [252, 252, 252],\n",
       "         [251, 251, 251],\n",
       "         [253, 253, 253]],\n",
       "\n",
       "        [[ 84,  84,  84],\n",
       "         [118, 118, 118],\n",
       "         [107, 107, 107],\n",
       "         ...,\n",
       "         [252, 252, 252],\n",
       "         [251, 251, 251],\n",
       "         [254, 254, 254]],\n",
       "\n",
       "        ...,\n",
       "\n",
       "        [[ 81,  81,  81],\n",
       "         [100, 100, 100],\n",
       "         [ 80,  80,  80],\n",
       "         ...,\n",
       "         [ 88,  88,  88],\n",
       "         [ 67,  67,  67],\n",
       "         [ 25,  25,  25]],\n",
       "\n",
       "        [[ 77,  77,  77],\n",
       "         [ 87,  87,  87],\n",
       "         [ 90,  90,  90],\n",
       "         ...,\n",
       "         [ 86,  86,  86],\n",
       "         [ 86,  86,  86],\n",
       "         [ 80,  80,  80]],\n",
       "\n",
       "        [[ 42,  42,  42],\n",
       "         [ 53,  53,  53],\n",
       "         [ 89,  89,  89],\n",
       "         ...,\n",
       "         [ 85,  85,  85],\n",
       "         [ 84,  84,  84],\n",
       "         [ 89,  89,  89]]],\n",
       "\n",
       "\n",
       "       [[[122, 122, 122],\n",
       "         [202, 202, 202],\n",
       "         [136, 136, 136],\n",
       "         ...,\n",
       "         [  0,   0,   0],\n",
       "         [  0,   0,   0],\n",
       "         [  0,   0,   0]],\n",
       "\n",
       "        [[  0,   0,   0],\n",
       "         [  0,   0,   0],\n",
       "         [  0,   0,   0],\n",
       "         ...,\n",
       "         [  0,   0,   0],\n",
       "         [  0,   0,   0],\n",
       "         [  0,   0,   0]],\n",
       "\n",
       "        [[123, 123, 123],\n",
       "         [211, 211, 211],\n",
       "         [122, 122, 122],\n",
       "         ...,\n",
       "         [  0,   0,   0],\n",
       "         [  0,   0,   0],\n",
       "         [  0,   0,   0]],\n",
       "\n",
       "        ...,\n",
       "\n",
       "        [[196, 196, 196],\n",
       "         [201, 201, 201],\n",
       "         [196, 196, 196],\n",
       "         ...,\n",
       "         [ 28,  28,  28],\n",
       "         [ 29,  29,  29],\n",
       "         [ 27,  27,  27]],\n",
       "\n",
       "        [[194, 194, 194],\n",
       "         [202, 202, 202],\n",
       "         [196, 196, 196],\n",
       "         ...,\n",
       "         [ 26,  26,  26],\n",
       "         [ 26,  26,  26],\n",
       "         [ 26,  26,  26]],\n",
       "\n",
       "        [[193, 193, 193],\n",
       "         [198, 198, 198],\n",
       "         [201, 201, 201],\n",
       "         ...,\n",
       "         [ 27,  27,  27],\n",
       "         [ 26,  26,  26],\n",
       "         [ 25,  25,  25]]],\n",
       "\n",
       "\n",
       "       [[[ 79,  79,  79],\n",
       "         [212, 212, 212],\n",
       "         [233, 233, 233],\n",
       "         ...,\n",
       "         [  1,   1,   1],\n",
       "         [  1,   1,   1],\n",
       "         [  1,   1,   1]],\n",
       "\n",
       "        [[  2,   2,   2],\n",
       "         [  0,   0,   0],\n",
       "         [  1,   1,   1],\n",
       "         ...,\n",
       "         [  1,   1,   1],\n",
       "         [  0,   0,   0],\n",
       "         [  0,   0,   0]],\n",
       "\n",
       "        [[ 87,  87,  87],\n",
       "         [222, 222, 222],\n",
       "         [213, 213, 213],\n",
       "         ...,\n",
       "         [  2,   2,   2],\n",
       "         [  0,   0,   0],\n",
       "         [  0,   0,   0]],\n",
       "\n",
       "        ...,\n",
       "\n",
       "        [[ 27,  27,  27],\n",
       "         [ 28,  28,  28],\n",
       "         [ 27,  27,  27],\n",
       "         ...,\n",
       "         [250, 250, 250],\n",
       "         [251, 251, 251],\n",
       "         [252, 252, 252]],\n",
       "\n",
       "        [[ 27,  27,  27],\n",
       "         [ 27,  27,  27],\n",
       "         [ 27,  27,  27],\n",
       "         ...,\n",
       "         [238, 238, 238],\n",
       "         [240, 240, 240],\n",
       "         [244, 244, 244]],\n",
       "\n",
       "        [[ 25,  25,  25],\n",
       "         [ 26,  26,  26],\n",
       "         [ 25,  25,  25],\n",
       "         ...,\n",
       "         [235, 235, 235],\n",
       "         [236, 236, 236],\n",
       "         [242, 242, 242]]]], dtype=uint8)>"
      ]
     },
     "execution_count": 36,
     "metadata": {
      "tags": []
     },
     "output_type": "execute_result"
    }
   ],
   "source": [
    "X1"
   ]
  },
  {
   "cell_type": "code",
   "execution_count": 0,
   "metadata": {
    "colab": {},
    "colab_type": "code",
    "id": "rKBTTM239y2w"
   },
   "outputs": [],
   "source": [
    "X2 = X1.numpy()\n",
    "X2= X2[:552]"
   ]
  },
  {
   "cell_type": "code",
   "execution_count": 0,
   "metadata": {
    "colab": {},
    "colab_type": "code",
    "id": "c2355HS99_6E"
   },
   "outputs": [],
   "source": [
    "X_train,X_test,y_train,y_test = train_test_split(X2,y,test_size=0.2)\n",
    "X_train = X_train/255\n",
    "X_test = X_test/255"
   ]
  },
  {
   "cell_type": "code",
   "execution_count": 0,
   "metadata": {
    "colab": {},
    "colab_type": "code",
    "id": "0e0OHbE5-Alm"
   },
   "outputs": [],
   "source": [
    "feature_extractor.trainable = False"
   ]
  },
  {
   "cell_type": "code",
   "execution_count": 0,
   "metadata": {
    "colab": {
     "base_uri": "https://localhost:8080/",
     "height": 221
    },
    "colab_type": "code",
    "id": "aMrCqvoI-XbM",
    "outputId": "5c520740-37be-4a51-d270-5dce6586e0c7"
   },
   "outputs": [
    {
     "name": "stdout",
     "output_type": "stream",
     "text": [
      "Model: \"sequential_1\"\n",
      "_________________________________________________________________\n",
      "Layer (type)                 Output Shape              Param #   \n",
      "=================================================================\n",
      "keras_layer_1 (KerasLayer)   (None, 1280)              2257984   \n",
      "_________________________________________________________________\n",
      "dense_1 (Dense)              (None, 8)                 10248     \n",
      "=================================================================\n",
      "Total params: 2,268,232\n",
      "Trainable params: 10,248\n",
      "Non-trainable params: 2,257,984\n",
      "_________________________________________________________________\n"
     ]
    }
   ],
   "source": [
    "model = tf.keras.Sequential([\n",
    "  feature_extractor,\n",
    "  layers.Dense(8, activation='softmax')\n",
    "])\n",
    "\n",
    "model.summary()"
   ]
  },
  {
   "cell_type": "code",
   "execution_count": 0,
   "metadata": {
    "colab": {},
    "colab_type": "code",
    "id": "w7GPLkH7-bUj"
   },
   "outputs": [],
   "source": [
    "model.compile(\n",
    "  optimizer='adam', \n",
    "  loss='sparse_categorical_crossentropy',\n",
    "  metrics=['accuracy'])\n"
   ]
  },
  {
   "cell_type": "code",
   "execution_count": 0,
   "metadata": {
    "colab": {
     "base_uri": "https://localhost:8080/",
     "height": 867
    },
    "colab_type": "code",
    "id": "27M1ZgO1-h3M",
    "outputId": "3f71e53f-f503-4940-abdf-703d6491851b"
   },
   "outputs": [
    {
     "name": "stdout",
     "output_type": "stream",
     "text": [
      "Epoch 1/25\n",
      "441/441 [==============================] - 1s 2ms/sample - loss: 0.4712 - acc: 0.9070\n",
      "Epoch 2/25\n",
      "441/441 [==============================] - 1s 2ms/sample - loss: 0.4601 - acc: 0.9138\n",
      "Epoch 3/25\n",
      "441/441 [==============================] - 1s 2ms/sample - loss: 0.4337 - acc: 0.9206\n",
      "Epoch 4/25\n",
      "441/441 [==============================] - 1s 2ms/sample - loss: 0.4256 - acc: 0.9252\n",
      "Epoch 5/25\n",
      "441/441 [==============================] - 1s 2ms/sample - loss: 0.4531 - acc: 0.8980\n",
      "Epoch 6/25\n",
      "441/441 [==============================] - 1s 2ms/sample - loss: 0.4553 - acc: 0.9184\n",
      "Epoch 7/25\n",
      "441/441 [==============================] - 1s 2ms/sample - loss: 0.4148 - acc: 0.9342\n",
      "Epoch 8/25\n",
      "441/441 [==============================] - 1s 2ms/sample - loss: 0.4043 - acc: 0.9365\n",
      "Epoch 9/25\n",
      "441/441 [==============================] - 1s 2ms/sample - loss: 0.4185 - acc: 0.9388\n",
      "Epoch 10/25\n",
      "441/441 [==============================] - 1s 2ms/sample - loss: 0.4335 - acc: 0.9070\n",
      "Epoch 11/25\n",
      "441/441 [==============================] - 1s 2ms/sample - loss: 0.4102 - acc: 0.9229\n",
      "Epoch 12/25\n",
      "441/441 [==============================] - 1s 2ms/sample - loss: 0.3953 - acc: 0.9342\n",
      "Epoch 13/25\n",
      "441/441 [==============================] - 1s 2ms/sample - loss: 0.3851 - acc: 0.9569\n",
      "Epoch 14/25\n",
      "441/441 [==============================] - 1s 2ms/sample - loss: 0.3938 - acc: 0.9252\n",
      "Epoch 15/25\n",
      "441/441 [==============================] - 1s 2ms/sample - loss: 0.3698 - acc: 0.9388\n",
      "Epoch 16/25\n",
      "441/441 [==============================] - 1s 2ms/sample - loss: 0.3763 - acc: 0.9592\n",
      "Epoch 17/25\n",
      "441/441 [==============================] - 1s 2ms/sample - loss: 0.3761 - acc: 0.9478\n",
      "Epoch 18/25\n",
      "441/441 [==============================] - 1s 2ms/sample - loss: 0.3813 - acc: 0.9546\n",
      "Epoch 19/25\n",
      "441/441 [==============================] - 1s 2ms/sample - loss: 0.3706 - acc: 0.9320\n",
      "Epoch 20/25\n",
      "441/441 [==============================] - 1s 2ms/sample - loss: 0.3548 - acc: 0.9524\n",
      "Epoch 21/25\n",
      "441/441 [==============================] - 1s 2ms/sample - loss: 0.3475 - acc: 0.9637\n",
      "Epoch 22/25\n",
      "441/441 [==============================] - 1s 2ms/sample - loss: 0.3590 - acc: 0.9342\n",
      "Epoch 23/25\n",
      "441/441 [==============================] - 1s 2ms/sample - loss: 0.3745 - acc: 0.9433\n",
      "Epoch 24/25\n",
      "441/441 [==============================] - 1s 2ms/sample - loss: 0.3859 - acc: 0.9274\n",
      "Epoch 25/25\n",
      "441/441 [==============================] - 1s 2ms/sample - loss: 0.3539 - acc: 0.9524\n"
     ]
    }
   ],
   "source": [
    "\n",
    "EPOCHS = 25\n",
    "history = model.fit(X_train,y_train,epochs=EPOCHS)"
   ]
  },
  {
   "cell_type": "code",
   "execution_count": 0,
   "metadata": {
    "colab": {},
    "colab_type": "code",
    "id": "iCjFHaKX-r0a"
   },
   "outputs": [],
   "source": [
    "model.save_weights('./checkpoints/my_checkpoint')"
   ]
  },
  {
   "cell_type": "code",
   "execution_count": 0,
   "metadata": {
    "colab": {
     "base_uri": "https://localhost:8080/",
     "height": 51
    },
    "colab_type": "code",
    "id": "dtvQh_S7FuXs",
    "outputId": "e2f27c69-0def-4d72-c790-6768b1a81753"
   },
   "outputs": [
    {
     "name": "stdout",
     "output_type": "stream",
     "text": [
      "111/111 [==============================] - 0s 2ms/sample - loss: 2.8636 - acc: 0.3423\n"
     ]
    },
    {
     "data": {
      "text/plain": [
       "[2.863609045475453, 0.34234235]"
      ]
     },
     "execution_count": 46,
     "metadata": {
      "tags": []
     },
     "output_type": "execute_result"
    }
   ],
   "source": [
    "model.evaluate(X_test,y_test)"
   ]
  },
  {
   "cell_type": "code",
   "execution_count": 0,
   "metadata": {
    "colab": {},
    "colab_type": "code",
    "id": "kIQ4X1QwGS7D"
   },
   "outputs": [],
   "source": []
  }
 ],
 "metadata": {
  "accelerator": "GPU",
  "colab": {
   "collapsed_sections": [],
   "name": "EmojiDetection.ipynb",
   "provenance": [],
   "version": "0.3.2"
  },
  "kernelspec": {
   "display_name": "Python 3",
   "language": "python",
   "name": "python3"
  },
  "language_info": {
   "codemirror_mode": {
    "name": "ipython",
    "version": 3
   },
   "file_extension": ".py",
   "mimetype": "text/x-python",
   "name": "python",
   "nbconvert_exporter": "python",
   "pygments_lexer": "ipython3",
   "version": "3.6.8"
  }
 },
 "nbformat": 4,
 "nbformat_minor": 1
}
